{
 "cells": [
  {
   "cell_type": "code",
   "execution_count": 1,
   "metadata": {
    "_cell_guid": "b1076dfc-b9ad-4769-8c92-a6c4dae69d19",
    "_uuid": "8f2839f25d086af736a60e9eeb907d3b93b6e0e5",
    "execution": {
     "iopub.execute_input": "2020-08-30T15:05:04.369345Z",
     "iopub.status.busy": "2020-08-30T15:05:04.368487Z",
     "iopub.status.idle": "2020-08-30T15:05:04.374145Z",
     "shell.execute_reply": "2020-08-30T15:05:04.373339Z"
    },
    "papermill": {
     "duration": 0.030616,
     "end_time": "2020-08-30T15:05:04.374320",
     "exception": false,
     "start_time": "2020-08-30T15:05:04.343704",
     "status": "completed"
    },
    "tags": []
   },
   "outputs": [
    {
     "name": "stdout",
     "output_type": "stream",
     "text": [
      "/kaggle/input/nlp-getting-started/train.csv\n",
      "/kaggle/input/nlp-getting-started/test.csv\n",
      "/kaggle/input/nlp-getting-started/sample_submission.csv\n"
     ]
    }
   ],
   "source": [
    "# This Python 3 environment comes with many helpful analytics libraries installed\n",
    "# It is defined by the kaggle/python Docker image: https://github.com/kaggle/docker-python\n",
    "# For example, here's several helpful packages to load\n",
    "\n",
    "import numpy as np # linear algebra\n",
    "import pandas as pd # data processing, CSV file I/O (e.g. pd.read_csv)\n",
    "\n",
    "# Input data files are available in the read-only \"../input/\" directory\n",
    "# For example, running this (by clicking run or pressing Shift+Enter) will list all files under the input directory\n",
    "\n",
    "import os\n",
    "for dirname, _, filenames in os.walk('/kaggle/input'):\n",
    "    for filename in filenames:\n",
    "        print(os.path.join(dirname, filename))\n",
    "\n",
    "# You can write up to 5GB to the current directory (/kaggle/working/) that gets preserved as output when you create a version using \"Save & Run All\" \n",
    "# You can also write temporary files to /kaggle/temp/, but they won't be saved outside of the current session"
   ]
  },
  {
   "cell_type": "code",
   "execution_count": 2,
   "metadata": {
    "execution": {
     "iopub.execute_input": "2020-08-30T15:05:04.413463Z",
     "iopub.status.busy": "2020-08-30T15:05:04.412629Z",
     "iopub.status.idle": "2020-08-30T15:05:05.636157Z",
     "shell.execute_reply": "2020-08-30T15:05:05.635367Z"
    },
    "papermill": {
     "duration": 1.245091,
     "end_time": "2020-08-30T15:05:05.636327",
     "exception": false,
     "start_time": "2020-08-30T15:05:04.391236",
     "status": "completed"
    },
    "tags": []
   },
   "outputs": [],
   "source": [
    "import numpy as np # linear algebra\n",
    "import pandas as pd # data processing, CSV file I/O (e.g. pd.read_csv)\n",
    "from sklearn import feature_extraction, linear_model, model_selection, preprocessing"
   ]
  },
  {
   "cell_type": "code",
   "execution_count": 3,
   "metadata": {
    "execution": {
     "iopub.execute_input": "2020-08-30T15:05:05.677921Z",
     "iopub.status.busy": "2020-08-30T15:05:05.677105Z",
     "iopub.status.idle": "2020-08-30T15:05:05.750786Z",
     "shell.execute_reply": "2020-08-30T15:05:05.749941Z"
    },
    "papermill": {
     "duration": 0.098331,
     "end_time": "2020-08-30T15:05:05.750919",
     "exception": false,
     "start_time": "2020-08-30T15:05:05.652588",
     "status": "completed"
    },
    "tags": []
   },
   "outputs": [],
   "source": [
    "train_df = pd.read_csv(\"/kaggle/input/nlp-getting-started/train.csv\")\n",
    "test_df = pd.read_csv(\"/kaggle/input/nlp-getting-started/test.csv\")"
   ]
  },
  {
   "cell_type": "code",
   "execution_count": 4,
   "metadata": {
    "execution": {
     "iopub.execute_input": "2020-08-30T15:05:05.799227Z",
     "iopub.status.busy": "2020-08-30T15:05:05.798405Z",
     "iopub.status.idle": "2020-08-30T15:05:05.813736Z",
     "shell.execute_reply": "2020-08-30T15:05:05.812953Z"
    },
    "papermill": {
     "duration": 0.046582,
     "end_time": "2020-08-30T15:05:05.813879",
     "exception": false,
     "start_time": "2020-08-30T15:05:05.767297",
     "status": "completed"
    },
    "tags": []
   },
   "outputs": [
    {
     "data": {
      "text/html": [
       "<div>\n",
       "<style scoped>\n",
       "    .dataframe tbody tr th:only-of-type {\n",
       "        vertical-align: middle;\n",
       "    }\n",
       "\n",
       "    .dataframe tbody tr th {\n",
       "        vertical-align: top;\n",
       "    }\n",
       "\n",
       "    .dataframe thead th {\n",
       "        text-align: right;\n",
       "    }\n",
       "</style>\n",
       "<table border=\"1\" class=\"dataframe\">\n",
       "  <thead>\n",
       "    <tr style=\"text-align: right;\">\n",
       "      <th></th>\n",
       "      <th>id</th>\n",
       "      <th>keyword</th>\n",
       "      <th>location</th>\n",
       "      <th>text</th>\n",
       "      <th>target</th>\n",
       "    </tr>\n",
       "  </thead>\n",
       "  <tbody>\n",
       "    <tr>\n",
       "      <th>0</th>\n",
       "      <td>1</td>\n",
       "      <td>NaN</td>\n",
       "      <td>NaN</td>\n",
       "      <td>Our Deeds are the Reason of this #earthquake M...</td>\n",
       "      <td>1</td>\n",
       "    </tr>\n",
       "    <tr>\n",
       "      <th>1</th>\n",
       "      <td>4</td>\n",
       "      <td>NaN</td>\n",
       "      <td>NaN</td>\n",
       "      <td>Forest fire near La Ronge Sask. Canada</td>\n",
       "      <td>1</td>\n",
       "    </tr>\n",
       "    <tr>\n",
       "      <th>2</th>\n",
       "      <td>5</td>\n",
       "      <td>NaN</td>\n",
       "      <td>NaN</td>\n",
       "      <td>All residents asked to 'shelter in place' are ...</td>\n",
       "      <td>1</td>\n",
       "    </tr>\n",
       "    <tr>\n",
       "      <th>3</th>\n",
       "      <td>6</td>\n",
       "      <td>NaN</td>\n",
       "      <td>NaN</td>\n",
       "      <td>13,000 people receive #wildfires evacuation or...</td>\n",
       "      <td>1</td>\n",
       "    </tr>\n",
       "    <tr>\n",
       "      <th>4</th>\n",
       "      <td>7</td>\n",
       "      <td>NaN</td>\n",
       "      <td>NaN</td>\n",
       "      <td>Just got sent this photo from Ruby #Alaska as ...</td>\n",
       "      <td>1</td>\n",
       "    </tr>\n",
       "  </tbody>\n",
       "</table>\n",
       "</div>"
      ],
      "text/plain": [
       "   id keyword location                                               text  \\\n",
       "0   1     NaN      NaN  Our Deeds are the Reason of this #earthquake M...   \n",
       "1   4     NaN      NaN             Forest fire near La Ronge Sask. Canada   \n",
       "2   5     NaN      NaN  All residents asked to 'shelter in place' are ...   \n",
       "3   6     NaN      NaN  13,000 people receive #wildfires evacuation or...   \n",
       "4   7     NaN      NaN  Just got sent this photo from Ruby #Alaska as ...   \n",
       "\n",
       "   target  \n",
       "0       1  \n",
       "1       1  \n",
       "2       1  \n",
       "3       1  \n",
       "4       1  "
      ]
     },
     "execution_count": 4,
     "metadata": {},
     "output_type": "execute_result"
    }
   ],
   "source": [
    "train_df.head()"
   ]
  },
  {
   "cell_type": "code",
   "execution_count": 5,
   "metadata": {
    "execution": {
     "iopub.execute_input": "2020-08-30T15:05:05.867362Z",
     "iopub.status.busy": "2020-08-30T15:05:05.866213Z",
     "iopub.status.idle": "2020-08-30T15:05:05.871323Z",
     "shell.execute_reply": "2020-08-30T15:05:05.870621Z"
    },
    "papermill": {
     "duration": 0.040405,
     "end_time": "2020-08-30T15:05:05.871452",
     "exception": false,
     "start_time": "2020-08-30T15:05:05.831047",
     "status": "completed"
    },
    "tags": []
   },
   "outputs": [
    {
     "data": {
      "text/plain": [
       "keyword       61\n",
       "location    2533\n",
       "text           0\n",
       "dtype: int64"
      ]
     },
     "execution_count": 5,
     "metadata": {},
     "output_type": "execute_result"
    }
   ],
   "source": [
    "count = train_df[['keyword','location','text']].isna().sum()\n",
    "count"
   ]
  },
  {
   "cell_type": "code",
   "execution_count": 6,
   "metadata": {
    "execution": {
     "iopub.execute_input": "2020-08-30T15:05:05.918512Z",
     "iopub.status.busy": "2020-08-30T15:05:05.917643Z",
     "iopub.status.idle": "2020-08-30T15:05:05.931515Z",
     "shell.execute_reply": "2020-08-30T15:05:05.930214Z"
    },
    "papermill": {
     "duration": 0.042408,
     "end_time": "2020-08-30T15:05:05.931675",
     "exception": false,
     "start_time": "2020-08-30T15:05:05.889267",
     "status": "completed"
    },
    "tags": []
   },
   "outputs": [
    {
     "name": "stdout",
     "output_type": "stream",
     "text": [
      "0    fatalities\n",
      "dtype: object\n",
      "0    USA\n",
      "dtype: object\n"
     ]
    }
   ],
   "source": [
    "for column in train_df[['keyword','location']]:\n",
    "    m = train_df[column].mode()\n",
    "    print(m)\n",
    "    train_df[column].fillna(m,inplace=True)"
   ]
  },
  {
   "cell_type": "code",
   "execution_count": 7,
   "metadata": {
    "execution": {
     "iopub.execute_input": "2020-08-30T15:05:05.978535Z",
     "iopub.status.busy": "2020-08-30T15:05:05.977408Z",
     "iopub.status.idle": "2020-08-30T15:05:05.980224Z",
     "shell.execute_reply": "2020-08-30T15:05:05.980840Z"
    },
    "papermill": {
     "duration": 0.029153,
     "end_time": "2020-08-30T15:05:05.981013",
     "exception": false,
     "start_time": "2020-08-30T15:05:05.951860",
     "status": "completed"
    },
    "tags": []
   },
   "outputs": [],
   "source": [
    "train_df['keyword'].fillna('fatalities',inplace=True)"
   ]
  },
  {
   "cell_type": "code",
   "execution_count": 8,
   "metadata": {
    "execution": {
     "iopub.execute_input": "2020-08-30T15:05:06.026638Z",
     "iopub.status.busy": "2020-08-30T15:05:06.025504Z",
     "iopub.status.idle": "2020-08-30T15:05:06.029075Z",
     "shell.execute_reply": "2020-08-30T15:05:06.028345Z"
    },
    "papermill": {
     "duration": 0.029081,
     "end_time": "2020-08-30T15:05:06.029216",
     "exception": false,
     "start_time": "2020-08-30T15:05:06.000135",
     "status": "completed"
    },
    "tags": []
   },
   "outputs": [],
   "source": [
    "train_df['location'].fillna('USA',inplace=True)"
   ]
  },
  {
   "cell_type": "code",
   "execution_count": 9,
   "metadata": {
    "execution": {
     "iopub.execute_input": "2020-08-30T15:05:06.080162Z",
     "iopub.status.busy": "2020-08-30T15:05:06.079009Z",
     "iopub.status.idle": "2020-08-30T15:05:06.083279Z",
     "shell.execute_reply": "2020-08-30T15:05:06.083815Z"
    },
    "papermill": {
     "duration": 0.036022,
     "end_time": "2020-08-30T15:05:06.083987",
     "exception": false,
     "start_time": "2020-08-30T15:05:06.047965",
     "status": "completed"
    },
    "tags": []
   },
   "outputs": [
    {
     "data": {
      "text/plain": [
       "keyword     0\n",
       "location    0\n",
       "text        0\n",
       "dtype: int64"
      ]
     },
     "execution_count": 9,
     "metadata": {},
     "output_type": "execute_result"
    }
   ],
   "source": [
    "count = train_df[['keyword','location','text']].isna().sum()\n",
    "count"
   ]
  },
  {
   "cell_type": "code",
   "execution_count": 10,
   "metadata": {
    "execution": {
     "iopub.execute_input": "2020-08-30T15:05:06.134339Z",
     "iopub.status.busy": "2020-08-30T15:05:06.133524Z",
     "iopub.status.idle": "2020-08-30T15:05:06.137463Z",
     "shell.execute_reply": "2020-08-30T15:05:06.136827Z"
    },
    "papermill": {
     "duration": 0.034313,
     "end_time": "2020-08-30T15:05:06.137593",
     "exception": false,
     "start_time": "2020-08-30T15:05:06.103280",
     "status": "completed"
    },
    "tags": []
   },
   "outputs": [],
   "source": [
    "count_vectorizer = feature_extraction.text.CountVectorizer()\n",
    "\n",
    "## let's get counts for the first 5 tweets in the data\n",
    "example_train_vectors = count_vectorizer.fit_transform(train_df[\"text\"][0:5])"
   ]
  },
  {
   "cell_type": "code",
   "execution_count": 11,
   "metadata": {
    "execution": {
     "iopub.execute_input": "2020-08-30T15:05:06.184226Z",
     "iopub.status.busy": "2020-08-30T15:05:06.183414Z",
     "iopub.status.idle": "2020-08-30T15:05:06.187119Z",
     "shell.execute_reply": "2020-08-30T15:05:06.186468Z"
    },
    "papermill": {
     "duration": 0.030256,
     "end_time": "2020-08-30T15:05:06.187268",
     "exception": false,
     "start_time": "2020-08-30T15:05:06.157012",
     "status": "completed"
    },
    "tags": []
   },
   "outputs": [
    {
     "name": "stdout",
     "output_type": "stream",
     "text": [
      "(1, 54)\n",
      "[[0 0 0 1 1 1 0 0 0 0 0 0 1 1 0 0 0 0 1 0 0 0 0 0 0 1 0 0 0 1 0 0 0 0 1 0\n",
      "  0 0 0 1 0 0 0 0 0 0 0 0 0 1 1 0 1 0]]\n"
     ]
    }
   ],
   "source": [
    "print(example_train_vectors[0].todense().shape)\n",
    "print(example_train_vectors[0].todense())"
   ]
  },
  {
   "cell_type": "code",
   "execution_count": 12,
   "metadata": {
    "execution": {
     "iopub.execute_input": "2020-08-30T15:05:06.241073Z",
     "iopub.status.busy": "2020-08-30T15:05:06.235974Z",
     "iopub.status.idle": "2020-08-30T15:05:06.614449Z",
     "shell.execute_reply": "2020-08-30T15:05:06.613737Z"
    },
    "papermill": {
     "duration": 0.407167,
     "end_time": "2020-08-30T15:05:06.614616",
     "exception": false,
     "start_time": "2020-08-30T15:05:06.207449",
     "status": "completed"
    },
    "tags": []
   },
   "outputs": [],
   "source": [
    "train_vectors = count_vectorizer.fit_transform(train_df[\"text\"])\n",
    "\n",
    "## note that we're NOT using .fit_transform() here. Using just .transform() makes sure\n",
    "# that the tokens in the train vectors are the only ones mapped to the test vectors - \n",
    "# i.e. that the train and test vectors use the same set of tokens.\n",
    "test_vectors = count_vectorizer.transform(test_df[\"text\"])"
   ]
  },
  {
   "cell_type": "code",
   "execution_count": 13,
   "metadata": {
    "execution": {
     "iopub.execute_input": "2020-08-30T15:05:06.661307Z",
     "iopub.status.busy": "2020-08-30T15:05:06.660167Z",
     "iopub.status.idle": "2020-08-30T15:05:06.663635Z",
     "shell.execute_reply": "2020-08-30T15:05:06.662884Z"
    },
    "papermill": {
     "duration": 0.028918,
     "end_time": "2020-08-30T15:05:06.663763",
     "exception": false,
     "start_time": "2020-08-30T15:05:06.634845",
     "status": "completed"
    },
    "tags": []
   },
   "outputs": [],
   "source": [
    "clf = linear_model.RidgeClassifier()"
   ]
  },
  {
   "cell_type": "code",
   "execution_count": 14,
   "metadata": {
    "execution": {
     "iopub.execute_input": "2020-08-30T15:05:06.710994Z",
     "iopub.status.busy": "2020-08-30T15:05:06.710141Z",
     "iopub.status.idle": "2020-08-30T15:05:07.092630Z",
     "shell.execute_reply": "2020-08-30T15:05:07.091864Z"
    },
    "papermill": {
     "duration": 0.408811,
     "end_time": "2020-08-30T15:05:07.092757",
     "exception": false,
     "start_time": "2020-08-30T15:05:06.683946",
     "status": "completed"
    },
    "tags": []
   },
   "outputs": [
    {
     "data": {
      "text/plain": [
       "array([0.59485531, 0.56498283, 0.64149093])"
      ]
     },
     "execution_count": 14,
     "metadata": {},
     "output_type": "execute_result"
    }
   ],
   "source": [
    "scores = model_selection.cross_val_score(clf, train_vectors, train_df[\"target\"], cv=3, scoring=\"f1\")\n",
    "scores"
   ]
  },
  {
   "cell_type": "code",
   "execution_count": 15,
   "metadata": {
    "execution": {
     "iopub.execute_input": "2020-08-30T15:05:07.141785Z",
     "iopub.status.busy": "2020-08-30T15:05:07.140829Z",
     "iopub.status.idle": "2020-08-30T15:05:07.307637Z",
     "shell.execute_reply": "2020-08-30T15:05:07.306756Z"
    },
    "papermill": {
     "duration": 0.194173,
     "end_time": "2020-08-30T15:05:07.307798",
     "exception": false,
     "start_time": "2020-08-30T15:05:07.113625",
     "status": "completed"
    },
    "tags": []
   },
   "outputs": [
    {
     "data": {
      "text/plain": [
       "RidgeClassifier()"
      ]
     },
     "execution_count": 15,
     "metadata": {},
     "output_type": "execute_result"
    }
   ],
   "source": [
    "clf.fit(train_vectors, train_df[\"target\"])"
   ]
  },
  {
   "cell_type": "code",
   "execution_count": 16,
   "metadata": {
    "execution": {
     "iopub.execute_input": "2020-08-30T15:05:07.366375Z",
     "iopub.status.busy": "2020-08-30T15:05:07.365249Z",
     "iopub.status.idle": "2020-08-30T15:05:07.383323Z",
     "shell.execute_reply": "2020-08-30T15:05:07.384391Z"
    },
    "papermill": {
     "duration": 0.052319,
     "end_time": "2020-08-30T15:05:07.384636",
     "exception": false,
     "start_time": "2020-08-30T15:05:07.332317",
     "status": "completed"
    },
    "tags": []
   },
   "outputs": [],
   "source": [
    "sample_submission = pd.read_csv(\"/kaggle/input/nlp-getting-started/sample_submission.csv\")"
   ]
  },
  {
   "cell_type": "code",
   "execution_count": 17,
   "metadata": {
    "execution": {
     "iopub.execute_input": "2020-08-30T15:05:07.456237Z",
     "iopub.status.busy": "2020-08-30T15:05:07.455130Z",
     "iopub.status.idle": "2020-08-30T15:05:07.459458Z",
     "shell.execute_reply": "2020-08-30T15:05:07.460305Z"
    },
    "papermill": {
     "duration": 0.04357,
     "end_time": "2020-08-30T15:05:07.460496",
     "exception": false,
     "start_time": "2020-08-30T15:05:07.416926",
     "status": "completed"
    },
    "tags": []
   },
   "outputs": [],
   "source": [
    "sample_submission[\"target\"] = clf.predict(test_vectors)"
   ]
  },
  {
   "cell_type": "code",
   "execution_count": 18,
   "metadata": {
    "execution": {
     "iopub.execute_input": "2020-08-30T15:05:07.530262Z",
     "iopub.status.busy": "2020-08-30T15:05:07.528933Z",
     "iopub.status.idle": "2020-08-30T15:05:07.533845Z",
     "shell.execute_reply": "2020-08-30T15:05:07.533175Z"
    },
    "papermill": {
     "duration": 0.040446,
     "end_time": "2020-08-30T15:05:07.533978",
     "exception": false,
     "start_time": "2020-08-30T15:05:07.493532",
     "status": "completed"
    },
    "tags": []
   },
   "outputs": [
    {
     "data": {
      "text/html": [
       "<div>\n",
       "<style scoped>\n",
       "    .dataframe tbody tr th:only-of-type {\n",
       "        vertical-align: middle;\n",
       "    }\n",
       "\n",
       "    .dataframe tbody tr th {\n",
       "        vertical-align: top;\n",
       "    }\n",
       "\n",
       "    .dataframe thead th {\n",
       "        text-align: right;\n",
       "    }\n",
       "</style>\n",
       "<table border=\"1\" class=\"dataframe\">\n",
       "  <thead>\n",
       "    <tr style=\"text-align: right;\">\n",
       "      <th></th>\n",
       "      <th>id</th>\n",
       "      <th>target</th>\n",
       "    </tr>\n",
       "  </thead>\n",
       "  <tbody>\n",
       "    <tr>\n",
       "      <th>0</th>\n",
       "      <td>0</td>\n",
       "      <td>0</td>\n",
       "    </tr>\n",
       "    <tr>\n",
       "      <th>1</th>\n",
       "      <td>2</td>\n",
       "      <td>1</td>\n",
       "    </tr>\n",
       "    <tr>\n",
       "      <th>2</th>\n",
       "      <td>3</td>\n",
       "      <td>1</td>\n",
       "    </tr>\n",
       "    <tr>\n",
       "      <th>3</th>\n",
       "      <td>9</td>\n",
       "      <td>0</td>\n",
       "    </tr>\n",
       "    <tr>\n",
       "      <th>4</th>\n",
       "      <td>11</td>\n",
       "      <td>1</td>\n",
       "    </tr>\n",
       "  </tbody>\n",
       "</table>\n",
       "</div>"
      ],
      "text/plain": [
       "   id  target\n",
       "0   0       0\n",
       "1   2       1\n",
       "2   3       1\n",
       "3   9       0\n",
       "4  11       1"
      ]
     },
     "execution_count": 18,
     "metadata": {},
     "output_type": "execute_result"
    }
   ],
   "source": [
    "sample_submission.head()"
   ]
  },
  {
   "cell_type": "code",
   "execution_count": 19,
   "metadata": {
    "execution": {
     "iopub.execute_input": "2020-08-30T15:05:07.585070Z",
     "iopub.status.busy": "2020-08-30T15:05:07.584325Z",
     "iopub.status.idle": "2020-08-30T15:05:07.982596Z",
     "shell.execute_reply": "2020-08-30T15:05:07.981850Z"
    },
    "papermill": {
     "duration": 0.425905,
     "end_time": "2020-08-30T15:05:07.982748",
     "exception": false,
     "start_time": "2020-08-30T15:05:07.556843",
     "status": "completed"
    },
    "tags": []
   },
   "outputs": [],
   "source": [
    "sample_submission.to_csv(\"#final1.csv\", index=False)"
   ]
  }
 ],
 "metadata": {
  "kernelspec": {
   "display_name": "Python 3",
   "language": "python",
   "name": "python3"
  },
  "language_info": {
   "codemirror_mode": {
    "name": "ipython",
    "version": 3
   },
   "file_extension": ".py",
   "mimetype": "text/x-python",
   "name": "python",
   "nbconvert_exporter": "python",
   "pygments_lexer": "ipython3",
   "version": "3.7.6"
  },
  "papermill": {
   "duration": 9.976571,
   "end_time": "2020-08-30T15:05:09.072017",
   "environment_variables": {},
   "exception": null,
   "input_path": "__notebook__.ipynb",
   "output_path": "__notebook__.ipynb",
   "parameters": {},
   "start_time": "2020-08-30T15:04:59.095446",
   "version": "2.1.0"
  }
 },
 "nbformat": 4,
 "nbformat_minor": 4
}
